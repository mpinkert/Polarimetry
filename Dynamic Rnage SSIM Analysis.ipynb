{
 "cells": [
  {
   "cell_type": "markdown",
   "metadata": {},
   "source": [
    "# Introduction"
   ]
  },
  {
   "cell_type": "markdown",
   "metadata": {},
   "source": [
    "This script compares images using image similarity metrics known as Structural Similarity (CW-SSIM) index and the Complex Wavelet SSIM (CW-SSIM).  It shows how varying an input, which specifies the dynamic range of the images, can change the basic SSIM measure but not the CW-SSIM measure. \n",
    "\n",
    "The CW-SSIM is derived from the basic SSIM index, which compares images based on their local intensity, local contrast, and local structure.  However, the basic SSIM index is based on spatial information and so is very sensitive to small image scaling, rotations, or translations.  By contrast, the CW-SSIM is based on wavelet transform coefficients, where such image transformations are just a constant phase shift.  This makes it more robust to scaling, rotation, and translation errors, while maintaining sensitivity to structural image differences.\n",
    "\n",
    "The following references give more information about CW-SSIM and image similarity metrics in general.\n",
    "\n",
    "Wang, Z., and A. C. Bovik. 2009. “Mean Squared Error: Love It or Leave It? A New Look at Signal Fidelity Measures.” IEEE Signal Processing Magazine 26 (1):98–117. https://doi.org/10.1109/MSP.2008.930649.\n",
    "\n",
    "Wang, Zhou, and E. P. Simoncelli. 2005. “Translation Insensitive Image Similarity in Complex Wavelet Domain.” In Proceedings. (ICASSP ’05). IEEE International Conference on Acoustics, Speech, and Signal Processing, 2005., 2:573–76. https://doi.org/10.1109/ICASSP.2005.1415469.\n",
    "\n",
    "\n",
    "This implementation was done using the pyssim package: https://github.com/jterrace/pyssim\n"
   ]
  },
  {
   "cell_type": "markdown",
   "metadata": {},
   "source": [
    "## Code dependencies"
   ]
  },
  {
   "cell_type": "code",
   "execution_count": 56,
   "metadata": {},
   "outputs": [],
   "source": [
    "import numpy as np\n",
    "\n",
    "import matplotlib.pyplot as plt\n",
    "from PIL import Image, ImageOps\n",
    "\n",
    "from ssim import SSIM\n",
    "from ssim.utils import get_gaussian_kernel\n",
    "\n",
    "gaussian_kernel_sigma = 1.5\n",
    "gaussian_kernel_width = 11\n",
    "gaussian_kernel_1d = get_gaussian_kernel(gaussian_kernel_width, gaussian_kernel_sigma)"
   ]
  },
  {
   "cell_type": "markdown",
   "metadata": {},
   "source": [
    "## Open images"
   ]
  },
  {
   "cell_type": "code",
   "execution_count": 43,
   "metadata": {},
   "outputs": [],
   "source": [
    "pol = Image.open('F:/Box Sync/Research/Polarimetry/RAnalysis/WP4/maskedFixed-weka-1xRes.tif')\n",
    "mmp = Image.open('F:/Box Sync/Research/Polarimetry/RAnalysis/WP4/JupyterOutput/jupyterAffine_mean_4Pyramid_gradDes_lr1_conMin-1e-6_.tif')\n",
    "polNW = Image.open('F:/Box Sync/Research/Polarimetry/RAnalysis/WP4/fixed.tif')\n"
   ]
  },
  {
   "cell_type": "markdown",
   "metadata": {},
   "source": [
    "# Calculate the SSIM and CW-SSIM\n",
    "\n",
    "The following code calculates the SSIM and CW-SSIM for 3 different scenarios, in pairs.  \n",
    "\n",
    "The pair is comparing the SSIM based on a masked Polscope image, where the background is cropped out, to the SSIM based on a Polscope image without the mask.\n",
    "\n",
    "The three scenarios are adjusting the dynamic range of the algorithm input. This substantially changes the results.\n",
    "\n",
    "## SSIM"
   ]
  },
  {
   "cell_type": "code",
   "execution_count": 65,
   "metadata": {},
   "outputs": [
    {
     "name": "stdout",
     "output_type": "stream",
     "text": [
      "Dynamic Range = 255 (Code default)\n",
      "SSIM of MMP to Pol 0.9392\n",
      "SSIM of MMP to No mask Pol 0.9288\n",
      "\n",
      "Dynamic Range = Maximum value in Polscope Matrix\n",
      "SSIM of MMP to Pol 0.6058\n",
      "SSIM of MMP to No mask Pol 0.5473\n",
      "\n",
      "Dynamic Range = 1 (Matlabs default)\n",
      "SSIM of MMP to Pol 0.4107\n",
      "SSIM of MMP to No mask Pol 0.2720\n"
     ]
    }
   ],
   "source": [
    "ssim_pol_mmp_drDef = SSIM(pol, gaussian_kernel_1d).ssim_value(mmp)\n",
    "ssim_polNW_mmp_drDef = SSIM(polNW,gaussian_kernel_1d).ssim_value(mmp)\n",
    "\n",
    "ssim_pol_mmp = SSIM(pol, gaussian_kernel_1d,l=np.max(pol)).ssim_value(mmp)\n",
    "ssim_polNW_mmp = SSIM(polNW,gaussian_kernel_1d,l=np.max(pol)).ssim_value(mmp)\n",
    "\n",
    "ssim_pol_mmp_drOne = SSIM(pol, gaussian_kernel_1d,l=1).ssim_value(mmp)\n",
    "ssim_polNW_mmp_drOne = SSIM(polNW,gaussian_kernel_1d,l=1).ssim_value(mmp)\n",
    "\n",
    "\n",
    "print(\"Dynamic Range = 255 (Code default)\")\n",
    "print(\"SSIM of MMP to Pol %.4f\" % ssim_pol_mmp_drDef)\n",
    "print(\"SSIM of MMP to No mask Pol %.4f\" % ssim_polNW_mmp_drDef)\n",
    "\n",
    "print(\"\\nDynamic Range = Maximum value in Polscope Matrix\")\n",
    "print(\"SSIM of MMP to Pol %.4f\" % ssim_pol_mmp)\n",
    "print(\"SSIM of MMP to No mask Pol %.4f\" % ssim_polNW_mmp)\n",
    "\n",
    "print(\"\\nDynamic Range = 1 (Matlabs default)\")\n",
    "print(\"SSIM of MMP to Pol %.4f\" % ssim_pol_mmp_drOne)\n",
    "print(\"SSIM of MMP to No mask Pol %.4f\" % ssim_polNW_mmp_drOne)\n",
    "\n",
    "\n",
    "\n"
   ]
  },
  {
   "cell_type": "markdown",
   "metadata": {},
   "source": [
    "As you can see, putting the dynamic range = the maximum value of the polscope matrix, gives a reasonable metric value - as if it were a blurred image.  \n",
    "\n",
    "However, do note that this value is slightly different than what Matlab produces.  The way they define the dynamic range probably differs.\n",
    "\n",
    "## CW-SSIM"
   ]
  },
  {
   "cell_type": "code",
   "execution_count": 66,
   "metadata": {
    "scrolled": true
   },
   "outputs": [
    {
     "name": "stdout",
     "output_type": "stream",
     "text": [
      "Dynamic Range = 255 (Code default)\n",
      "CW-SSIM of MMP to Pol 0.5865\n",
      "CW-SSIM of MMP to No mask Pol 0.4194\n",
      "\n",
      "Dynamic Range = Maximum value in Polscope Matrix\n",
      "CW-SSIM of MMP to Pol 0.5865\n",
      "CW-SSIM of MMP to No mask Pol 0.4194\n",
      "\n",
      "Dynamic Range = 1 (Matlabs default)\n",
      "CW-SSIM of MMP to Pol 0.5865\n",
      "CW-SSIM of MMP to No mask Pol 0.4194\n"
     ]
    }
   ],
   "source": [
    "cw_ssim_pol_mmp_drDef = SSIM(pol).cw_ssim_value(mmp)\n",
    "cw_ssim_polNW_mmp_drDef = SSIM(polNW).cw_ssim_value(mmp)\n",
    "\n",
    "cw_ssim_pol_mmp = SSIM(pol,l=np.max(pol)).cw_ssim_value(mmp)\n",
    "cw_ssim_polNW_mmp = SSIM(polNW,l=np.max(pol)).cw_ssim_value(mmp)\n",
    "\n",
    "cw_ssim_pol_mmp_drOne = SSIM(pol,l=1).cw_ssim_value(mmp)\n",
    "cw_ssim_polNW_mmp_drOne = SSIM(polNW,l=1).cw_ssim_value(mmp)\n",
    "\n",
    "\n",
    "print(\"Dynamic Range = 255 (Code default)\")\n",
    "print(\"CW-SSIM of MMP to Pol %.4f\" % cw_ssim_pol_mmp_drDef)\n",
    "print(\"CW-SSIM of MMP to No mask Pol %.4f\" % cw_ssim_polNW_mmp_drDef)\n",
    "\n",
    "print(\"\\nDynamic Range = Maximum value in Polscope Matrix\")\n",
    "print(\"CW-SSIM of MMP to Pol %.4f\" % cw_ssim_pol_mmp)\n",
    "print(\"CW-SSIM of MMP to No mask Pol %.4f\" % cw_ssim_polNW_mmp)\n",
    "\n",
    "print(\"\\nDynamic Range = 1 (Matlabs default)\")\n",
    "print(\"CW-SSIM of MMP to Pol %.4f\" % cw_ssim_pol_mmp_drOne)\n",
    "print(\"CW-SSIM of MMP to No mask Pol %.4f\" % cw_ssim_polNW_mmp_drOne)\n"
   ]
  },
  {
   "cell_type": "markdown",
   "metadata": {},
   "source": [
    "Note that changing the dynamic range has no effect on the results.  This is very advantageous, as it means one less variable for the user to adjust.  This makes it more robust and probably more accurate."
   ]
  },
  {
   "cell_type": "code",
   "execution_count": null,
   "metadata": {},
   "outputs": [],
   "source": []
  }
 ],
 "metadata": {
  "kernelspec": {
   "display_name": "Python 3",
   "language": "python",
   "name": "python3"
  },
  "language_info": {
   "codemirror_mode": {
    "name": "ipython",
    "version": 3
   },
   "file_extension": ".py",
   "mimetype": "text/x-python",
   "name": "python",
   "nbconvert_exporter": "python",
   "pygments_lexer": "ipython3",
   "version": "3.6.3"
  }
 },
 "nbformat": 4,
 "nbformat_minor": 2
}
