{
 "cells": [
  {
   "cell_type": "markdown",
   "metadata": {},
   "source": [
    "# Introduction"
   ]
  },
  {
   "cell_type": "markdown",
   "metadata": {},
   "source": [
    "This script compares images using an image similarity metrics known as and the Complex Wavelet Structural Similarity (CW-SSIM) index.\n",
    "\n",
    "The CW-SSIM is derived from the basic SSIM index, which compares images based on their local intensity, local contrast, and local structure. However, the basic SSIM index is based on spatial information and so is very sensitive to small image scaling, rotations, or translations. By contrast, the CW-SSIM is based on wavelet transform coefficients, where such image transformations are just a constant phase shift. This makes it more robust to scaling, rotation, and translation errors, while maintaining sensitivity to structural image differences.\n",
    "\n",
    "The following references give more information about CW-SSIM and image similarity metrics in general.\n",
    "\n",
    "Wang, Z., and A. C. Bovik. 2009. “Mean Squared Error: Love It or Leave It? A New Look at Signal Fidelity Measures.” IEEE Signal Processing Magazine 26 (1):98–117. https://doi.org/10.1109/MSP.2008.930649.\n",
    "\n",
    "Wang, Zhou, and E. P. Simoncelli. 2005. “Translation Insensitive Image Similarity in Complex Wavelet Domain.” In Proceedings. (ICASSP ’05). IEEE International Conference on Acoustics, Speech, and Signal Processing, 2005., 2:573–76. https://doi.org/10.1109/ICASSP.2005.1415469.\n",
    "\n",
    "This implementation was done using the pyssim package: https://github.com/jterrace/pyssim"
   ]
  },
  {
   "cell_type": "code",
   "execution_count": 7,
   "metadata": {},
   "outputs": [],
   "source": [
    "import numpy as np\n",
    "\n",
    "import matplotlib.pyplot as plt\n",
    "from PIL import Image, ImageOps\n",
    "\n",
    "from ssim import SSIM\n",
    "from ssim.utils import get_gaussian_kernel\n",
    "\n",
    "InDir = 'F:/Box Sync/Research/Polarimetry/Jupyter Analysis/Reg Mask Output/'\n",
    "polSuffix = '_maskFix_RegularStepAffineReg.tif'\n",
    "mmpSuffix = '_RegularStepAffineReg.tif'\n",
    "shgSuffix = '_SHG_RegularStepAffineReg.tif'\n",
    "\n",
    "\n",
    "#For WP4, we needed a second registration\n",
    "twoReg_mmpSuffix = '_RegularStepAffineReg_RegToMask.tif'\n",
    "\n",
    "gaussian_kernel_sigma = 1.5\n",
    "gaussian_kernel_width = 11\n",
    "gaussian_kernel_1d = get_gaussian_kernel(gaussian_kernel_width, gaussian_kernel_sigma)"
   ]
  },
  {
   "cell_type": "markdown",
   "metadata": {},
   "source": [
    "# Calculate the CW-SSIM for each combination\n",
    "## WP2"
   ]
  },
  {
   "cell_type": "code",
   "execution_count": 2,
   "metadata": {},
   "outputs": [
    {
     "name": "stdout",
     "output_type": "stream",
     "text": [
      "Pol-MMP, CW-SSIM =  0.7956\n",
      "Pol-SHG, CW-SSIM =  0.5267\n",
      "SHG-MMP, CW-SSIM =  0.5167\n"
     ]
    }
   ],
   "source": [
    "sample = 'WP2'\n",
    "pol = Image.open(InDir + sample + polSuffix)\n",
    "mmp = Image.open(InDir + sample + mmpSuffix)\n",
    "shg = Image.open(InDir + sample + shgSuffix)\n",
    "\n",
    "cw_ssim_pol_mmp = SSIM(pol).cw_ssim_value(mmp)\n",
    "cw_ssim_pol_shg = SSIM(pol).cw_ssim_value(shg)\n",
    "cw_ssim_shg_mmp = SSIM(shg).cw_ssim_value(mmp)\n",
    "\n",
    "print(\"Pol-MMP, CW-SSIM =  %.4f\" % cw_ssim_pol_mmp)\n",
    "print(\"Pol-SHG, CW-SSIM =  %.4f\" % cw_ssim_pol_shg)\n",
    "print(\"SHG-MMP, CW-SSIM =  %.4f\" % cw_ssim_shg_mmp)"
   ]
  },
  {
   "cell_type": "markdown",
   "metadata": {},
   "source": [
    "## WP4 "
   ]
  },
  {
   "cell_type": "code",
   "execution_count": 8,
   "metadata": {},
   "outputs": [
    {
     "name": "stdout",
     "output_type": "stream",
     "text": [
      "Pol-MMP, CW-SSIM =  0.6921\n",
      "Pol-SHG, CW-SSIM =  0.4120\n",
      "SHG-MMP, CW-SSIM =  0.4058\n"
     ]
    }
   ],
   "source": [
    "sample = 'WP4'\n",
    "\n",
    "\n",
    "\n",
    "pol = Image.open(InDir + sample + polSuffix)\n",
    "mmp = Image.open(InDir + sample + twoReg_mmpSuffix)\n",
    "shg = Image.open(InDir + sample + shgSuffix)\n",
    "\n",
    "cw_ssim_pol_mmp = SSIM(pol).cw_ssim_value(mmp)\n",
    "cw_ssim_pol_shg = SSIM(pol).cw_ssim_value(shg)\n",
    "cw_ssim_shg_mmp = SSIM(shg).cw_ssim_value(mmp)\n",
    "\n",
    "print(\"Pol-MMP, CW-SSIM =  %.4f\" % cw_ssim_pol_mmp)\n",
    "print(\"Pol-SHG, CW-SSIM =  %.4f\" % cw_ssim_pol_shg)\n",
    "print(\"SHG-MMP, CW-SSIM =  %.4f\" % cw_ssim_shg_mmp)"
   ]
  },
  {
   "cell_type": "markdown",
   "metadata": {},
   "source": [
    "## WP5"
   ]
  },
  {
   "cell_type": "code",
   "execution_count": 9,
   "metadata": {},
   "outputs": [
    {
     "name": "stdout",
     "output_type": "stream",
     "text": [
      "Pol-MMP, CW-SSIM =  0.8018\n",
      "Pol-SHG, CW-SSIM =  0.5626\n",
      "SHG-MMP, CW-SSIM =  0.5596\n"
     ]
    }
   ],
   "source": [
    "sample = 'WP5'\n",
    "pol = Image.open(InDir + sample + polSuffix)\n",
    "mmp = Image.open(InDir + sample + mmpSuffix)\n",
    "shg = Image.open(InDir + sample + shgSuffix)\n",
    "\n",
    "cw_ssim_pol_mmp = SSIM(pol).cw_ssim_value(mmp)\n",
    "cw_ssim_pol_shg = SSIM(pol).cw_ssim_value(shg)\n",
    "cw_ssim_shg_mmp = SSIM(shg).cw_ssim_value(mmp)\n",
    "\n",
    "print(\"Pol-MMP, CW-SSIM =  %.4f\" % cw_ssim_pol_mmp)\n",
    "print(\"Pol-SHG, CW-SSIM =  %.4f\" % cw_ssim_pol_shg)\n",
    "print(\"SHG-MMP, CW-SSIM =  %.4f\" % cw_ssim_shg_mmp)"
   ]
  },
  {
   "cell_type": "markdown",
   "metadata": {},
   "source": [
    "## WP9 "
   ]
  },
  {
   "cell_type": "code",
   "execution_count": 5,
   "metadata": {},
   "outputs": [
    {
     "name": "stdout",
     "output_type": "stream",
     "text": [
      "Pol-MMP, CW-SSIM =  0.8436\n",
      "Pol-SHG, CW-SSIM =  0.6417\n",
      "SHG-MMP, CW-SSIM =  0.6315\n"
     ]
    }
   ],
   "source": [
    "sample = 'WP9'\n",
    "pol = Image.open(InDir + sample + polSuffix)\n",
    "mmp = Image.open(InDir + sample + mmpSuffix)\n",
    "shg = Image.open(InDir + sample + shgSuffix)\n",
    "\n",
    "cw_ssim_pol_mmp = SSIM(pol).cw_ssim_value(mmp)\n",
    "cw_ssim_pol_shg = SSIM(pol).cw_ssim_value(shg)\n",
    "cw_ssim_shg_mmp = SSIM(shg).cw_ssim_value(mmp)\n",
    "\n",
    "print(\"Pol-MMP, CW-SSIM =  %.4f\" % cw_ssim_pol_mmp)\n",
    "print(\"Pol-SHG, CW-SSIM =  %.4f\" % cw_ssim_pol_shg)\n",
    "print(\"SHG-MMP, CW-SSIM =  %.4f\" % cw_ssim_shg_mmp)"
   ]
  },
  {
   "cell_type": "code",
   "execution_count": null,
   "metadata": {},
   "outputs": [],
   "source": []
  }
 ],
 "metadata": {
  "kernelspec": {
   "display_name": "Python 3",
   "language": "python",
   "name": "python3"
  },
  "language_info": {
   "codemirror_mode": {
    "name": "ipython",
    "version": 3
   },
   "file_extension": ".py",
   "mimetype": "text/x-python",
   "name": "python",
   "nbconvert_exporter": "python",
   "pygments_lexer": "ipython3",
   "version": "3.6.3"
  }
 },
 "nbformat": 4,
 "nbformat_minor": 2
}
