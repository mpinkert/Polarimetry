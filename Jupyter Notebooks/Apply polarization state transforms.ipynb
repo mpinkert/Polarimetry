{
 "cells": [
  {
   "cell_type": "markdown",
   "metadata": {},
   "source": [
    "This notebook is meant for registering between the 24 polarization state combinations in Mueller registration using the instrument at the Vitkin laboratory in Toronto, Canada.  \n",
    "\n",
    "Each time the instrument shifts polarization state, the image shifts - either greatly for output state, or slightly for input state.  This code implements pre-calculated transforms to correct for these shifts and then to print the resulting images to 24 tifs."
   ]
  },
  {
   "cell_type": "code",
   "execution_count": 1,
   "metadata": {},
   "outputs": [],
   "source": [
    "import SimpleITK as sitk\n",
    "import javabridge\n",
    "import bioformats as bf\n",
    "from pathlib import Path\n",
    "import os"
   ]
  },
  {
   "cell_type": "markdown",
   "metadata": {},
   "source": [
    "We first need to start up the javabridge, which lets us open up CZI files. "
   ]
  },
  {
   "cell_type": "code",
   "execution_count": 2,
   "metadata": {},
   "outputs": [],
   "source": [
    "javabridge.start_vm(class_path=bf.JARS, max_heap_size='8G')"
   ]
  },
  {
   "cell_type": "markdown",
   "metadata": {},
   "source": [
    "Next we declare the paths to the directory holding the image files, the path to the transform directory, and the path to the output directory"
   ]
  },
  {
   "cell_type": "code",
   "execution_count": 3,
   "metadata": {},
   "outputs": [],
   "source": [
    "mhr_dir = Path(r'F:\\Research\\Polarimetry\\Data 01 - Raw and imageJ proccessed images\\Mueller raw\\MHR czi images')\n",
    "mhr_transform_dir = Path(r'F:\\Research\\Polarimetry\\Data 01 - Raw and imageJ proccessed images\\Mueller raw\\MHR Transforms')\n",
    "mhr_output_dir = Path(r'F:\\Research\\Polarimetry\\Data 01 - Raw and imageJ proccessed images\\Mueller raw\\MHR Registered')\n"
   ]
  },
  {
   "cell_type": "markdown",
   "metadata": {},
   "source": [
    "Now we declare some necessary variables - first, the resolution of the czi images we will be processing, and the prefix for how the transforms are named."
   ]
  },
  {
   "cell_type": "code",
   "execution_count": 4,
   "metadata": {},
   "outputs": [],
   "source": [
    "mhr_transform_prefix = 'MHR_Position'\n",
    "mhr_resolution = 0.81"
   ]
  },
  {
   "cell_type": "markdown",
   "metadata": {},
   "source": [
    "Now we define a few functions that will let us perform this registration automatically."
   ]
  },
  {
   "cell_type": "code",
   "execution_count": 7,
   "metadata": {},
   "outputs": [],
   "source": [
    "def list_filetype_in_dir(file_dir, file_ext):\n",
    "        \"\"\"Given a directory path, return all files of given file type as a list\"\"\"\n",
    "        return [Path(file_dir, f) for f in os.listdir(file_dir) if f.endswith(file_ext)]\n",
    "\n",
    "    \n",
    "def apply_transform(fixed_image: sitk.Image, moving_image: sitk.Image, transform_path):\n",
    "        transform = sitk.ReadTransform(str(transform_path))\n",
    "        registered_image = sitk.Resample(moving_image, fixed_image, transform,\n",
    "                                         sitk.sitkLinear, 0.0, moving_image.GetPixelID())\n",
    "        \n",
    "        return registered_image\n",
    "    \n",
    "\n",
    "def czi_timepoint_to_sitk_image(path_file, position, resolution, resolution_unit='microns'):\n",
    "        \"\"\"\n",
    "        Open a timepoint from a czi image and make it into an ITK image.  Warning: requires a running javabridge.\n",
    "        \n",
    "        :param path_file: Path to the czi file\n",
    "        :param position: Timepoint to open\n",
    "        :param resolution: Resolution of the czi image\n",
    "        :param resolution_unit: The unit of measure (e.g. microns) of the czi image\n",
    "        :return: A SimpleITK image made from the timepoint\n",
    "        \"\"\"\n",
    "        array = bf.load_image(str(path_file), t=position)\n",
    "        image = sitk.GetImageFromArray(array)\n",
    "        image.SetSpacing([resolution, resolution])\n",
    "        image.SetMetaData('Unit', resolution_unit)\n",
    "        \n",
    "        return image\n",
    "    \n",
    "\n",
    "def apply_polarization_transforms(path_image, output_dir, transform_dir, transform_prefix, resolution,\n",
    "                                  skip_existing_images=True):\n",
    "        \"\"\"\n",
    "        Apply pre-calculated transforms onto a single mueller polarimetry image\n",
    "\n",
    "        :param path_image: path to the image being processed\n",
    "        :param output_dir: directory to save the image to\n",
    "        :param resolution: resolution of the image file\n",
    "        :return:\n",
    "        \"\"\"\n",
    "        print('Applying transforms to {0}'.format(path_image.stem))\n",
    "        \n",
    "        fixed_image = czi_timepoint_to_sitk_image(path_image, 0, resolution)\n",
    "\n",
    "        for num in range(24):\n",
    "                output_path = Path(output_dir, path_image.stem + '_' + str(num + 1) + '.tif')\n",
    "                if skip_existing_images and output_path.is_file():\n",
    "                        continue\n",
    "\n",
    "                moving_image = czi_timepoint_to_sitk_image(path_image, num, resolution)\n",
    "                transform_path = Path(transform_dir, transform_prefix + '_' + str(num + 1) + '.tfm')\n",
    "                \n",
    "                if num == 0:\n",
    "                        sitk.WriteImage(fixed_image, str(output_path))\n",
    "                else:\n",
    "                        registered_image = apply_transform(fixed_image, moving_image, str(transform_path))\n",
    "                        sitk.WriteImage(registered_image, str(output_path))\n",
    "\n",
    "\n",
    "def bulk_apply_polarization_transforms(dir_input, dir_output, transform_dir, transform_prefix,\n",
    "                                       resolution, skip_existing_images=True):\n",
    "        \"\"\"\n",
    "        Apply pre-calculated transforms onto a whole directory of mueller polarimetry images\n",
    "\n",
    "        :param dir_input: Directory holding both images and the transforms.csv file\n",
    "        :param dir_output: Directory to write resulting images to\n",
    "        :param resolution: Resolution of the image files\n",
    "        :param skip_existing_images: Whether to skip applying the transform if files already exist\n",
    "        :return:\n",
    "        \"\"\"\n",
    "        file_list = list_filetype_in_dir(dir_input, 'czi')\n",
    "        for file in file_list:\n",
    "                dir_output_file = Path(dir_output, file.stem)\n",
    "                os.makedirs(dir_output_file, exist_ok=True)\n",
    "                \n",
    "                apply_polarization_transforms(file, dir_output_file, transform_dir, transform_prefix, resolution,\n",
    "                                              skip_existing_images=skip_existing_images)"
   ]
  },
  {
   "cell_type": "markdown",
   "metadata": {},
   "source": [
    "Finally, we just run the bulk apply transforms function to apply them to every czi image in the directory."
   ]
  },
  {
   "cell_type": "code",
   "execution_count": 6,
   "metadata": {},
   "outputs": [
    {
     "name": "stdout",
     "output_type": "stream",
     "text": [
      "Applying transforms to 1045- slide 1\n",
      "Applying transforms to WP2\n"
     ]
    }
   ],
   "source": [
    "bulk_apply_polarization_transforms(mhr_dir, mhr_output_dir, mhr_transform_dir, mhr_transform_prefix, mhr_resolution)"
   ]
  },
  {
   "cell_type": "markdown",
   "metadata": {},
   "source": [
    "Once the transforms are complete, we end the javabridge to free up the process."
   ]
  },
  {
   "cell_type": "code",
   "execution_count": 8,
   "metadata": {},
   "outputs": [],
   "source": [
    "javabridge.kill_vm()\n"
   ]
  },
  {
   "cell_type": "code",
   "execution_count": null,
   "metadata": {},
   "outputs": [],
   "source": []
  }
 ],
 "metadata": {
  "kernelspec": {
   "display_name": "Python 3",
   "language": "python",
   "name": "python3"
  },
  "language_info": {
   "codemirror_mode": {
    "name": "ipython",
    "version": 3
   },
   "file_extension": ".py",
   "mimetype": "text/x-python",
   "name": "python",
   "nbconvert_exporter": "python",
   "pygments_lexer": "ipython3",
   "version": "3.7.0"
  }
 },
 "nbformat": 4,
 "nbformat_minor": 2
}
