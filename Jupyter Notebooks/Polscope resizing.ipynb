{
 "cells": [
  {
   "cell_type": "markdown",
   "metadata": {},
   "source": [
    "# Introduction"
   ]
  },
  {
   "cell_type": "markdown",
   "metadata": {},
   "source": [
    "# Code basis\n",
    "## Dependencies"
   ]
  },
  {
   "cell_type": "code",
   "execution_count": 63,
   "metadata": {},
   "outputs": [],
   "source": [
    "import SimpleITK as sitk\n",
    "\n",
    "import math\n",
    "\n",
    "import os\n",
    "import sys\n",
    "InDir = \"F:/Box Sync/Research/Polarimetry/Jupyter Analysis/Polscope_BasicCorrected/Large/\"\n",
    "OutDir = \"F:/Box Sync/Research/Polarimetry/Jupyter Analysis/Polscope_BasicCorrected/\"\n",
    "MMPDir = \"F:/Box Sync/Research/Polarimetry/Jupyter Analysis/MMP input/\"\n",
    "OutMMP = \"F:/Box Sync/Research/Polarimetry/Jupyter Analysis/MMP input/Large/\"\n",
    "\n",
    "import matplotlib.pyplot as plt\n",
    "import numpy as np\n",
    "import numpy.ma as ma\n",
    "\n",
    "from myshow import myshow"
   ]
  },
  {
   "cell_type": "markdown",
   "metadata": {},
   "source": [
    "## Utility functions"
   ]
  },
  {
   "cell_type": "code",
   "execution_count": 12,
   "metadata": {},
   "outputs": [],
   "source": [
    "def resample(image, transform):\n",
    "    reference_image = image\n",
    "    interpolator = sitk.sitkCosineWindowedSinc\n",
    "    default_value = 0\n",
    "    return sitk.Resample(image, reference_image, transform,\n",
    "                         interpolator, default_value)"
   ]
  },
  {
   "cell_type": "code",
   "execution_count": 61,
   "metadata": {},
   "outputs": [],
   "source": [
    "def resizeImage(itkImg, currentRes, targetRes):\n",
    "    if targetRes > currentRes:\n",
    "        scale = math.floor(targetRes/currentRes)\n",
    "        endRes = currentRes*scale\n",
    "        resampled = sitk.Shrink(itkImg,[scale,scale])\n",
    "        resampled.SetSpacing([endRes, endRes])\n",
    "    else:\n",
    "        scale = math.floor(currentRes/targetRes)\n",
    "        endRes = currentRes/scale\n",
    "        resampled = sitk.Expand(itkImg,[scale,scale])\n",
    "        resampled.SetSpacing([endRes,endRes])\n",
    "    return resampled"
   ]
  },
  {
   "cell_type": "code",
   "execution_count": 31,
   "metadata": {},
   "outputs": [],
   "source": [
    "def shrinkPolscopeImage(itkImg, currentRes, targetRes):\n",
    "    scale = math.floor(targetRes/currentRes)\n",
    "    endRes = currentRes*scale\n",
    "    shrunk = sitk.Shrink(itkImg,[scale,scale])\n",
    "    shrunk.SetSpacing([endRes, endRes])\n",
    "    return shrunk"
   ]
  },
  {
   "cell_type": "code",
   "execution_count": null,
   "metadata": {},
   "outputs": [],
   "source": [
    "def expandMMPImage(itkImg, currentRes, targetRes):\n",
    "    scale = math.floor(targetRes/currentRes)\n",
    "    endRes = currentRes*scale\n",
    "    shrunk = sitk.Shrink(itkImg,[scale,scale])\n",
    "    shrunk.SetSpacing([endRes, endRes])\n",
    "    return shrunk"
   ]
  },
  {
   "cell_type": "markdown",
   "metadata": {},
   "source": [
    "# Processing"
   ]
  },
  {
   "cell_type": "markdown",
   "metadata": {},
   "source": [
    "Get a list of all the files in the input directory.  This assumes the only tif files are the large polscope files.  If not, it will grab any other files and resize them too."
   ]
  },
  {
   "cell_type": "code",
   "execution_count": 51,
   "metadata": {},
   "outputs": [
    {
     "name": "stdout",
     "output_type": "stream",
     "text": [
      "CA_Boundary\n"
     ]
    }
   ],
   "source": [
    "imageFiles = os.listdir(InDir)\n",
    "print(imageFiles[0])"
   ]
  },
  {
   "cell_type": "code",
   "execution_count": 47,
   "metadata": {
    "scrolled": true
   },
   "outputs": [
    {
     "name": "stdout",
     "output_type": "stream",
     "text": [
      "(1472, 1228)\n",
      "(1472, 1228)\n",
      "(1715, 1472)\n",
      "(1719, 1963)\n"
     ]
    }
   ],
   "source": [
    "for i in range (0, len(imageFiles)):\n",
    "    if '.tif' in imageFiles[i]:\n",
    "        img = sitk.ReadImage(InDir + imageFiles[i], sitk.sitkFloat32)\n",
    "        shrunk = shrinkPolscopeImage(img,0.677,5.57)\n",
    "        print(shrunk.GetSize())\n",
    "        sitk.WriteImage(shrunk,os.path.join(OutDir,imageFiles[i]))"
   ]
  },
  {
   "cell_type": "markdown",
   "metadata": {},
   "source": [
    "# Grow MMP images"
   ]
  },
  {
   "cell_type": "code",
   "execution_count": 55,
   "metadata": {},
   "outputs": [
    {
     "name": "stdout",
     "output_type": "stream",
     "text": [
      "['CA_Boundary', 'CA_Out', 'WP2_MMP.tif', 'WP4_MMP.tif', 'WP5_MMP.tif', 'WP9_MMP.tif']\n"
     ]
    }
   ],
   "source": [
    "mmpFiles = os.listdir(MMPDir)\n",
    "print(mmpFiles)"
   ]
  },
  {
   "cell_type": "code",
   "execution_count": 64,
   "metadata": {},
   "outputs": [
    {
     "name": "stdout",
     "output_type": "stream",
     "text": [
      "WP2_MMP.tif\n",
      "WP4_MMP.tif\n",
      "WP5_MMP.tif\n",
      "WP9_MMP.tif\n"
     ]
    }
   ],
   "source": [
    "for i in range (0, len(mmpFiles)):\n",
    "    if '.tif' in mmpFiles[i]:\n",
    "        img = sitk.ReadImage(MMPDir + mmpFiles[i], sitk.sitkFloat32)\n",
    "        expand = resizeImage(img,5.57,0.677)\n",
    "        print(mmpFiles[i])\n",
    "        sitk.WriteImage(expand,os.path.join(OutMMP,mmpFiles[i]))"
   ]
  },
  {
   "cell_type": "code",
   "execution_count": null,
   "metadata": {},
   "outputs": [],
   "source": []
  }
 ],
 "metadata": {
  "kernelspec": {
   "display_name": "Python 3",
   "language": "python",
   "name": "python3"
  },
  "language_info": {
   "codemirror_mode": {
    "name": "ipython",
    "version": 3
   },
   "file_extension": ".py",
   "mimetype": "text/x-python",
   "name": "python",
   "nbconvert_exporter": "python",
   "pygments_lexer": "ipython3",
   "version": "3.6.3"
  }
 },
 "nbformat": 4,
 "nbformat_minor": 2
}
